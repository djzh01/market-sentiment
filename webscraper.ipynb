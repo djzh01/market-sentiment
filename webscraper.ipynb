{
 "cells": [
  {
   "cell_type": "markdown",
   "metadata": {},
   "source": [
    "This is an early attempt at analyzing market sentiments using Webscraping. The script scrapes the r/wallstreetbets subreddit's\n",
    "'What Are Your Moves' posts over the past 2 months and plots the sentiment of the subreddit against the movements of the S&P 500."
   ]
  },
  {
   "cell_type": "code",
   "execution_count": 231,
   "metadata": {
    "collapsed": true,
    "jupyter": {
     "outputs_hidden": true
    }
   },
   "outputs": [
    {
     "name": "stdout",
     "output_type": "stream",
     "text": [
      "Requirement already satisfied: praw in c:\\users\\blueb\\anaconda3\\lib\\site-packages (7.1.0)\n",
      "Requirement already satisfied: prawcore<2.0,>=1.3.0 in c:\\users\\blueb\\anaconda3\\lib\\site-packages (from praw) (1.5.0)\n",
      "Requirement already satisfied: websocket-client>=0.54.0 in c:\\users\\blueb\\anaconda3\\lib\\site-packages (from praw) (0.57.0)\n",
      "Requirement already satisfied: update-checker>=0.17 in c:\\users\\blueb\\anaconda3\\lib\\site-packages (from praw) (0.18.0)\n",
      "Requirement already satisfied: requests<3.0,>=2.6.0 in c:\\users\\blueb\\anaconda3\\lib\\site-packages (from prawcore<2.0,>=1.3.0->praw) (2.24.0)\n",
      "Requirement already satisfied: six in c:\\users\\blueb\\anaconda3\\lib\\site-packages (from websocket-client>=0.54.0->praw) (1.15.0)\n",
      "Requirement already satisfied: certifi>=2017.4.17 in c:\\users\\blueb\\anaconda3\\lib\\site-packages (from requests<3.0,>=2.6.0->prawcore<2.0,>=1.3.0->praw) (2020.6.20)\n",
      "Requirement already satisfied: chardet<4,>=3.0.2 in c:\\users\\blueb\\anaconda3\\lib\\site-packages (from requests<3.0,>=2.6.0->prawcore<2.0,>=1.3.0->praw) (3.0.4)\n",
      "Requirement already satisfied: urllib3!=1.25.0,!=1.25.1,<1.26,>=1.21.1 in c:\\users\\blueb\\anaconda3\\lib\\site-packages (from requests<3.0,>=2.6.0->prawcore<2.0,>=1.3.0->praw) (1.25.9)\n",
      "Requirement already satisfied: idna<3,>=2.5 in c:\\users\\blueb\\anaconda3\\lib\\site-packages (from requests<3.0,>=2.6.0->prawcore<2.0,>=1.3.0->praw) (2.10)\n"
     ]
    }
   ],
   "source": [
    "! pip install praw"
   ]
  },
  {
   "cell_type": "code",
   "execution_count": 232,
   "metadata": {
    "collapsed": true,
    "jupyter": {
     "outputs_hidden": true
    }
   },
   "outputs": [
    {
     "name": "stdout",
     "output_type": "stream",
     "text": [
      "Collecting pandas-datareader\n",
      "  Downloading pandas_datareader-0.9.0-py3-none-any.whl (107 kB)\n",
      "Requirement already satisfied: pandas>=0.23 in c:\\users\\blueb\\anaconda3\\lib\\site-packages (from pandas-datareader) (1.0.5)\n",
      "Requirement already satisfied: lxml in c:\\users\\blueb\\anaconda3\\lib\\site-packages (from pandas-datareader) (4.5.2)\n",
      "Requirement already satisfied: requests>=2.19.0 in c:\\users\\blueb\\anaconda3\\lib\\site-packages (from pandas-datareader) (2.24.0)\n",
      "Requirement already satisfied: python-dateutil>=2.6.1 in c:\\users\\blueb\\anaconda3\\lib\\site-packages (from pandas>=0.23->pandas-datareader) (2.8.1)\n",
      "Requirement already satisfied: numpy>=1.13.3 in c:\\users\\blueb\\anaconda3\\lib\\site-packages (from pandas>=0.23->pandas-datareader) (1.18.5)\n",
      "Requirement already satisfied: pytz>=2017.2 in c:\\users\\blueb\\anaconda3\\lib\\site-packages (from pandas>=0.23->pandas-datareader) (2020.1)\n",
      "Requirement already satisfied: chardet<4,>=3.0.2 in c:\\users\\blueb\\anaconda3\\lib\\site-packages (from requests>=2.19.0->pandas-datareader) (3.0.4)\n",
      "Requirement already satisfied: urllib3!=1.25.0,!=1.25.1,<1.26,>=1.21.1 in c:\\users\\blueb\\anaconda3\\lib\\site-packages (from requests>=2.19.0->pandas-datareader) (1.25.9)\n",
      "Requirement already satisfied: certifi>=2017.4.17 in c:\\users\\blueb\\anaconda3\\lib\\site-packages (from requests>=2.19.0->pandas-datareader) (2020.6.20)\n",
      "Requirement already satisfied: idna<3,>=2.5 in c:\\users\\blueb\\anaconda3\\lib\\site-packages (from requests>=2.19.0->pandas-datareader) (2.10)\n",
      "Requirement already satisfied: six>=1.5 in c:\\users\\blueb\\anaconda3\\lib\\site-packages (from python-dateutil>=2.6.1->pandas>=0.23->pandas-datareader) (1.15.0)\n",
      "Installing collected packages: pandas-datareader\n",
      "Successfully installed pandas-datareader-0.9.0\n"
     ]
    }
   ],
   "source": [
    "! pip install pandas-datareader"
   ]
  },
  {
   "cell_type": "code",
   "execution_count": 441,
   "metadata": {},
   "outputs": [],
   "source": [
    "import praw\n",
    "from prawcore.exceptions import RequestException\n",
    "import matplotlib.pyplot as plt\n",
    "from matplotlib import style\n",
    "from datetime import datetime, timedelta\n",
    "import pandas_datareader.data as web"
   ]
  },
  {
   "cell_type": "code",
   "execution_count": 277,
   "metadata": {},
   "outputs": [],
   "source": [
    "CLIENT_ID = 'UJjmN-ZQ55bhBQ'\n",
    "CLIENT_SECRET = 'iEYpDNPE1lhbJBGlDrqfp49wOv4'\n",
    "USER_AGENT = 'RedditScraper'\n",
    "USERNAME = ''\n",
    "PASSWORD = ''"
   ]
  },
  {
   "cell_type": "code",
   "execution_count": 278,
   "metadata": {},
   "outputs": [],
   "source": [
    "reddit = praw.Reddit(client_id=CLIENT_ID, client_secret=CLIENT_SECRET,\n",
    "                     password=PASSWORD,\n",
    "                     user_agent=USER_AGENT, username=USERNAME)"
   ]
  },
  {
   "cell_type": "code",
   "execution_count": 443,
   "metadata": {},
   "outputs": [],
   "source": [
    "subreddit = reddit.subreddit('wallstreetbets')\n",
    "posts = []\n",
    "searchQuery = subreddit.search('Daily Discussion Thread',sort='new',time_filter='month')\n",
    "while True:\n",
    "    try:\n",
    "        for post in searchQuery:\n",
    "            if post.title.find('What Are Your Moves') != -1:\n",
    "                posts.append(post)\n",
    "                post.comments.replace_more(limit=0)\n",
    "        break\n",
    "    except RequestException:\n",
    "       pass"
   ]
  },
  {
   "cell_type": "raw",
   "metadata": {},
   "source": [
    "Currently the method used to determine market sentiment is to parse through the comments of each post and determine if each\n",
    "comment is 1) bullish, 2) bearish, or 3) neutral using keywords. The ratio of bullish/bearish is plotted against the date of the \n",
    "post to determine a very rough idea of market predictions for the subreddit."
   ]
  },
  {
   "cell_type": "code",
   "execution_count": 444,
   "metadata": {},
   "outputs": [],
   "source": [
    "ratios = []\n",
    "dates = []\n",
    "for post in posts:\n",
    "    dt = datetime.fromtimestamp(post.created_utc)\n",
    "    bull = 0\n",
    "    bear = 0\n",
    "    for comment in post.comments.list():\n",
    "        try:\n",
    "            if comment.body.lower().find('call' or 'calls' or 'up' or 'buy') != -1:\n",
    "                bull += comment.score\n",
    "            if comment.body.lower().find('put' or 'puts' or 'down' or 'sell') != -1:\n",
    "                bear += comment.score\n",
    "        except AttributeError:\n",
    "            continue\n",
    "    if(dt.day != datetime.now().day):\n",
    "        ratios.append(bull/bear)\n",
    "        if((dt.month % 2 == 1 or dt.month == 8) and dt.month < 9):\n",
    "            dates.append(dt.month + dt.day/31)\n",
    "        elif(dt.month == 2):\n",
    "            dates.append(dt.month + dt.day/29)\n",
    "        else:\n",
    "            dates.append(dt.month + dt.day/30)\n",
    "    "
   ]
  },
  {
   "cell_type": "code",
   "execution_count": 455,
   "metadata": {},
   "outputs": [],
   "source": [
    "start = datetime.fromtimestamp(posts[-1].created_utc)\n",
    "end = datetime.fromtimestamp(posts[0].created_utc) + timedelta(days=2)\n",
    "sp = web.DataReader('SPY','yahoo', start, end)\n",
    "sp = sp['Open']\n",
    "sp = sp.iloc[::-1]"
   ]
  },
  {
   "cell_type": "code",
   "execution_count": 457,
   "metadata": {},
   "outputs": [
    {
     "data": {
      "text/plain": [
       "[Text(0, 0.5, 'Price'), Text(0.5, 0, 'Date')]"
      ]
     },
     "execution_count": 457,
     "metadata": {},
     "output_type": "execute_result"
    },
    {
     "data": {
      "image/png": "[encoded data removed]",
      "text/plain": [
       "<Figure size 432x288 with 2 Axes>"
      ]
     },
     "metadata": {},
     "output_type": "display_data"
    }
   ],
   "source": [
    "fig,a = plt.subplots(2)\n",
    "style.use('ggplot')\n",
    "a[0].plot(dates, ratios, 'g', linewidth=1.0)\n",
    "a[0].set(ylabel='Sentiment')\n",
    "a[1].plot(dates, sp, 'r', linewidth = 1)\n",
    "a[1].set(xlabel = 'Date', ylabel = 'Price')"
   ]
  }
 ],
 "metadata": {
  "kernelspec": {
   "display_name": "Python 3",
   "language": "python",
   "name": "python3"
  },
  "language_info": {
   "codemirror_mode": {
    "name": "ipython",
    "version": 3
   },
   "file_extension": ".py",
   "mimetype": "text/x-python",
   "name": "python",
   "nbconvert_exporter": "python",
   "pygments_lexer": "ipython3",
   "version": "3.8.3"
  }
 },
 "nbformat": 4,
 "nbformat_minor": 4
}
